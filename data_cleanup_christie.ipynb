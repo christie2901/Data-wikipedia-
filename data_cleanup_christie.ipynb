{
 "cells": [
  {
   "cell_type": "code",
   "execution_count": 18,
   "metadata": {},
   "outputs": [
    {
     "name": "stdout",
     "output_type": "stream",
     "text": [
      "Collecting lxml\n",
      "  Obtaining dependency information for lxml from https://files.pythonhosted.org/packages/78/8d/96b95d704fab4a95651ceeb6022855ae5a3c631f86c6647749a2e868af92/lxml-4.9.3-cp310-cp310-macosx_11_0_x86_64.whl.metadata\n",
      "  Downloading lxml-4.9.3-cp310-cp310-macosx_11_0_x86_64.whl.metadata (3.8 kB)\n",
      "Downloading lxml-4.9.3-cp310-cp310-macosx_11_0_x86_64.whl (4.8 MB)\n",
      "\u001b[2K   \u001b[90m━━━━━━━━━━━━━━━━━━━━━━━━━━━━━━━━━━━━━━━━\u001b[0m \u001b[32m4.8/4.8 MB\u001b[0m \u001b[31m6.2 MB/s\u001b[0m eta \u001b[36m0:00:00\u001b[0m00:01\u001b[0m00:01\u001b[0m\n",
      "\u001b[?25hInstalling collected packages: lxml\n",
      "Successfully installed lxml-4.9.3\n"
     ]
    }
   ],
   "source": [
    "!pip install lxml\n"
   ]
  },
  {
   "cell_type": "code",
   "execution_count": 119,
   "metadata": {},
   "outputs": [],
   "source": [
    "import pandas as pd\n",
    "import requests\n",
    "from bs4 import BeautifulSoup\n",
    "import country_converter as coco"
   ]
  },
  {
   "cell_type": "markdown",
   "metadata": {},
   "source": [
    "## Get the data\n",
    "The function bellow is used to extract the first table present in a wikipedia Page"
   ]
  },
  {
   "cell_type": "code",
   "execution_count": 120,
   "metadata": {},
   "outputs": [],
   "source": [
    "\n",
    "def getDataFrameFromWikipedia(wikipedia_url, table_no=1):\n",
    "    \"\"\"\n",
    "    returns a dataframe of the data from the wikipedia page. \\n\n",
    "    optionaly, if there are multiple tables on the page, you can specify which table to use in `table_no`.\n",
    "    \"\"\"\n",
    "    response = requests.get(wikipedia_url)\n",
    "    print(response.status_code)\n",
    "    soup = BeautifulSoup(response.text, 'html.parser')\n",
    "    tables = soup.findAll('table', {'class': 'wikitable'})\n",
    "    \n",
    "    if table_no >= 1 and table_no <= len(tables):\n",
    "        df = pd.read_html(str(tables[table_no - 1]))[0]\n",
    "        return df\n",
    "    else:\n",
    "        return None"
   ]
  },
  {
   "cell_type": "markdown",
   "metadata": {},
   "source": [
    "## Normalise the country\n",
    "- As there are no standerdised way to get countries, we use a library called `country_converter` to convert countries for us.\n",
    "- Some country might not exist (Channel Islands, European Union, World...), in that case, we just drop the whole record for this country"
   ]
  },
  {
   "cell_type": "code",
   "execution_count": 121,
   "metadata": {},
   "outputs": [],
   "source": [
    "def normaliseCountryNames(df):\n",
    "    df.columns.values[0] = 'Country'\n",
    "    df['Country'] = df['Country'].apply(lambda x: coco.convert(names=x, to='name_short', not_found='not found'))\n",
    "    df = df[df['Country'] != 'not found']\n",
    "    return df"
   ]
  },
  {
   "cell_type": "markdown",
   "metadata": {},
   "source": [
    "## All column"
   ]
  },
  {
   "cell_type": "code",
   "execution_count": 122,
   "metadata": {},
   "outputs": [],
   "source": [
    "the_final_table = []"
   ]
  },
  {
   "cell_type": "code",
   "execution_count": 123,
   "metadata": {},
   "outputs": [
    {
     "name": "stdout",
     "output_type": "stream",
     "text": [
      "200\n"
     ]
    },
    {
     "name": "stderr",
     "output_type": "stream",
     "text": [
      "/var/folders/p_/y91nv_9n4pd_cdyjthbpxm900000gn/T/ipykernel_11719/3126715534.py:12: FutureWarning: Passing literal html to 'read_html' is deprecated and will be removed in a future version. To read from a literal string, wrap it in a 'StringIO' object.\n",
      "  df = pd.read_html(str(tables[table_no - 1]))[0]\n",
      "/var/folders/p_/y91nv_9n4pd_cdyjthbpxm900000gn/T/ipykernel_11719/563173382.py:7: PerformanceWarning: dropping on a non-lexsorted multi-index without a level parameter may impact performance.\n",
      "  df = df.drop([\"IMF[4][5]\", \"United Nations[7]\"], axis = 1)\n",
      "Channel Islands not found in regex\n",
      "European Union[n 1] not found in regex\n",
      "World not found in regex\n",
      "Zanzibar not found in regex\n"
     ]
    },
    {
     "name": "stdout",
     "output_type": "stream",
     "text": [
      "           Country World Bank[6]\n",
      "1           Monaco        234317\n",
      "2    Liechtenstein        184083\n",
      "3       Luxembourg        126426\n",
      "4          Bermuda        118846\n",
      "5          Ireland        104039\n",
      "..             ...           ...\n",
      "219     Madagascar           505\n",
      "220    South Sudan          1072\n",
      "221   Sierra Leone           461\n",
      "222    Afghanistan           364\n",
      "223        Burundi           238\n",
      "\n",
      "[219 rows x 2 columns]\n"
     ]
    }
   ],
   "source": [
    "## GET GDP PER CAPITA\n",
    "\n",
    "gdp_per_capita = getDataFrameFromWikipedia(\"https://en.wikipedia.org/wiki/List_of_countries_by_GDP_(nominal)_per_capita\")\n",
    "\n",
    "df= gdp_per_capita\n",
    "\n",
    "df = df.drop([\"IMF[4][5]\", \"United Nations[7]\"], axis = 1)\n",
    "df = df.drop(0)\n",
    "df.columns = df.columns.droplevel(-1)\n",
    "df.columns = [*df.columns[:-1], 'years']\n",
    "df.columns.values[0] = 'Country'\n",
    "\n",
    "df = df.drop([\"UN Region\", \"years\"], axis = 1)\n",
    "\n",
    "\n",
    "df = normaliseCountryNames(df)\n",
    "\n",
    "the_final_table = df\n",
    "\n",
    "print(df.head(10000)) "
   ]
  },
  {
   "cell_type": "code",
   "execution_count": 124,
   "metadata": {},
   "outputs": [
    {
     "name": "stdout",
     "output_type": "stream",
     "text": [
      "200\n"
     ]
    },
    {
     "name": "stderr",
     "output_type": "stream",
     "text": [
      "/var/folders/p_/y91nv_9n4pd_cdyjthbpxm900000gn/T/ipykernel_11719/3126715534.py:12: FutureWarning: Passing literal html to 'read_html' is deprecated and will be removed in a future version. To read from a literal string, wrap it in a 'StringIO' object.\n",
      "  df = pd.read_html(str(tables[table_no - 1]))[0]\n"
     ]
    },
    {
     "name": "stdout",
     "output_type": "stream",
     "text": [
      "             Country  Average download speed (Mbit/s)\n",
      "0            Romania                           178.90\n",
      "1        South Korea                           241.58\n",
      "2          Hong Kong                           265.17\n",
      "3             Monaco                           220.35\n",
      "4          Singapore                           259.11\n",
      "..               ...                              ...\n",
      "96          Dominica                            37.62\n",
      "97   North Macedonia                            37.20\n",
      "98            Greece                            36.73\n",
      "99        Bangladesh                            36.02\n",
      "100          Senegal                            35.32\n",
      "\n",
      "[101 rows x 2 columns]\n"
     ]
    }
   ],
   "source": [
    "# List of countries by Internet connection speeds, Fixed broadband, Average download speed (Mbit/s) (Ookla).\n",
    "\n",
    "internet_speed = getDataFrameFromWikipedia(\"https://en.wikipedia.org/wiki/List_of_countries_by_Internet_connection_speeds\")\n",
    "\n",
    "df = internet_speed\n",
    "df = df.drop([\"Rank\", \"Averagedownloadspeed(Mbit/s)(M-Lab)[2]\", \"Averagedownloadspeed(Mbit/s)(SpeedTestNet.io)\", \"Averagedownloadspeed(Mbit/s)(Speed-Test-Pros.com)[4]\"], axis = 1)\n",
    "df.columns = [*df.columns[:-1], \"Average download speed (Mbit/s)\"]\n",
    "df = normaliseCountryNames(df)\n",
    "\n",
    "the_final_table = pd.merge(the_final_table, df, on='Country', how='outer')\n",
    "\n",
    "print(df.head(10000)) "
   ]
  },
  {
   "cell_type": "code",
   "execution_count": 125,
   "metadata": {},
   "outputs": [
    {
     "name": "stdout",
     "output_type": "stream",
     "text": [
      "200\n"
     ]
    },
    {
     "name": "stderr",
     "output_type": "stream",
     "text": [
      "/var/folders/p_/y91nv_9n4pd_cdyjthbpxm900000gn/T/ipykernel_11719/3126715534.py:12: FutureWarning: Passing literal html to 'read_html' is deprecated and will be removed in a future version. To read from a literal string, wrap it in a 'StringIO' object.\n",
      "  df = pd.read_html(str(tables[table_no - 1]))[0]\n",
      "Netherlands Antilles not found in regex\n"
     ]
    },
    {
     "name": "stdout",
     "output_type": "stream",
     "text": [
      "         Country Alcohiol consumption per capita (litres) 2016\n",
      "0    Afghanistan                                           0.2\n",
      "1        Albania                                           7.5\n",
      "2        Algeria                                           0.9\n",
      "3        Andorra                                          11.3\n",
      "4         Angola                                           6.4\n",
      "..           ...                                           ...\n",
      "186    Venezuela                                           5.6\n",
      "187      Vietnam                                           8.3\n",
      "188        Yemen                                           0.1\n",
      "189       Zambia                                           4.8\n",
      "190     Zimbabwe                                           4.8\n",
      "\n",
      "[190 rows x 2 columns]\n"
     ]
    }
   ],
   "source": [
    "# List of countries by alcohol consumption per capita, Recorded per capita consumption of pure alcohol (litres) per adult 15 years of age and over per year, 2016.\n",
    "alcohol_consumption = getDataFrameFromWikipedia(\"https://en.wikipedia.org/wiki/List_of_countries_by_alcohol_consumption_per_capita\")\n",
    "\n",
    "df = alcohol_consumption\n",
    "\n",
    "df = df.drop([\"1996[7]\"], axis = 1)\n",
    "df.columns = [*df.columns[:-1], \"Alcohiol consumption per capita (litres) 2016\"]\n",
    "df = normaliseCountryNames(df)\n",
    "\n",
    "the_final_table = pd.merge(the_final_table, df, on='Country', how='outer')\n",
    "\n",
    "print(df.head(10000))"
   ]
  },
  {
   "cell_type": "code",
   "execution_count": 126,
   "metadata": {},
   "outputs": [
    {
     "name": "stdout",
     "output_type": "stream",
     "text": [
      "200\n"
     ]
    },
    {
     "name": "stderr",
     "output_type": "stream",
     "text": [
      "/var/folders/p_/y91nv_9n4pd_cdyjthbpxm900000gn/T/ipykernel_11719/3126715534.py:12: FutureWarning: Passing literal html to 'read_html' is deprecated and will be removed in a future version. To read from a literal string, wrap it in a 'StringIO' object.\n",
      "  df = pd.read_html(str(tables[table_no - 1]))[0]\n",
      "Northern Ireland not found in regex\n",
      "Scotland not found in regex\n"
     ]
    },
    {
     "name": "stdout",
     "output_type": "stream",
     "text": [
      "            Country  Intentional homicide victims per 100,000 inhabitants\n",
      "0       Afghanistan                                                4.0   \n",
      "1           Albania                                                2.3   \n",
      "2           Algeria                                                1.6   \n",
      "3    American Samoa                                                0.0   \n",
      "4           Andorra                                                2.6   \n",
      "..              ...                                                ...   \n",
      "201       Venezuela                                               19.3   \n",
      "202         Vietnam                                                1.5   \n",
      "203           Yemen                                                6.3   \n",
      "204          Zambia                                                5.2   \n",
      "205        Zimbabwe                                                6.1   \n",
      "\n",
      "[204 rows x 2 columns]\n"
     ]
    }
   ],
   "source": [
    "# List of countries by intentional homicide rate, Intentional homicide victims per 100,000 inhabitants. From UNODC, rate.\n",
    "\n",
    "homicide_rate = getDataFrameFromWikipedia(\"https://en.wikipedia.org/wiki/List_of_countries_by_intentional_homicide_rate\",2)\n",
    "\n",
    "df = homicide_rate\n",
    "\n",
    "df = df.drop([\"Region\", \"Subregion\", \"Year\", \"Count\"], axis = 1)\n",
    "df.columns = [*df.columns[:-1], \"Intentional homicide victims per 100,000 inhabitants\"]\n",
    "df['Location'] = df['Location'].str.replace('*', '', regex=False).str.strip()\n",
    "df = df.rename(columns={'Location': 'Country'})\n",
    "df = normaliseCountryNames(df)\n",
    "\n",
    "the_final_table = pd.merge(the_final_table, df, on='Country', how='outer')\n",
    "\n",
    "print(df.head(10000))"
   ]
  },
  {
   "cell_type": "code",
   "execution_count": 127,
   "metadata": {},
   "outputs": [
    {
     "name": "stdout",
     "output_type": "stream",
     "text": [
      "200\n"
     ]
    },
    {
     "name": "stderr",
     "output_type": "stream",
     "text": [
      "/var/folders/p_/y91nv_9n4pd_cdyjthbpxm900000gn/T/ipykernel_11719/3126715534.py:12: FutureWarning: Passing literal html to 'read_html' is deprecated and will be removed in a future version. To read from a literal string, wrap it in a 'StringIO' object.\n",
      "  df = pd.read_html(str(tables[table_no - 1]))[0]\n",
      "Netherlands Antilles not found in regex\n"
     ]
    },
    {
     "name": "stdout",
     "output_type": "stream",
     "text": [
      "                       Country Muslim percentage of total population_islam\n",
      "0                  Afghanistan                                        99.7\n",
      "1                      Albania                                        58.8\n",
      "2                      Algeria                                          99\n",
      "3               American Samoa                                       < 0.1\n",
      "4                      Andorra                                         2.6\n",
      "..                         ...                                         ...\n",
      "227  Wallis and Futuna Islands                                       < 0.1\n",
      "228             Western Sahara                                        99.4\n",
      "229                      Yemen                                        97.2\n",
      "230                     Zambia                                           1\n",
      "231                   Zimbabwe                                         0.7\n",
      "\n",
      "[231 rows x 2 columns]\n"
     ]
    }
   ],
   "source": [
    "#11. Islam by country, Muslim percentage of total population\n",
    "islam_by_country = getDataFrameFromWikipedia(\"https://en.wikipedia.org/wiki/Islam_by_country\")\n",
    "df = islam_by_country\n",
    "df = df.drop([\"Total Population\", \"Muslim Population\", \"Percentage of world (%)\", \"Sources\"], axis = 1)\n",
    "df = df.drop([\"Unnamed: 6\"], axis = 1)\n",
    "df = df.rename(columns={'Country/Region': 'Country'})\n",
    "df = normaliseCountryNames(df)\n",
    "df = df.rename(columns={'Muslim percentage of total population': 'Muslim percentage of total population_islam'})\n",
    "\n",
    "the_final_table = pd.merge(the_final_table, df, on='Country', how='outer')\n",
    "print(df.head(10000))"
   ]
  },
  {
   "cell_type": "code",
   "execution_count": 128,
   "metadata": {},
   "outputs": [
    {
     "name": "stdout",
     "output_type": "stream",
     "text": [
      "200\n"
     ]
    },
    {
     "name": "stderr",
     "output_type": "stream",
     "text": [
      "/var/folders/p_/y91nv_9n4pd_cdyjthbpxm900000gn/T/ipykernel_11719/3126715534.py:12: FutureWarning: Passing literal html to 'read_html' is deprecated and will be removed in a future version. To read from a literal string, wrap it in a 'StringIO' object.\n",
      "  df = pd.read_html(str(tables[table_no - 1]))[0]\n",
      "/var/folders/p_/y91nv_9n4pd_cdyjthbpxm900000gn/T/ipykernel_11719/3145737077.py:5: PerformanceWarning: dropping on a non-lexsorted multi-index without a level parameter may impact performance.\n",
      "  df = df.drop([\"Pew estimates (2010)[1]\", \"Other estimates\"], axis = 1)\n",
      "World not found in regex\n"
     ]
    },
    {
     "name": "stdout",
     "output_type": "stream",
     "text": [
      "            Country Buddhist population by country, % population\n",
      "0       Afghanistan                                          NaN\n",
      "1           Albania                                          NaN\n",
      "2           Algeria                                          NaN\n",
      "3    American Samoa                                          NaN\n",
      "4           Andorra                                          NaN\n",
      "..              ...                                          ...\n",
      "174       Venezuela                                          NaN\n",
      "175         Vietnam                                          NaN\n",
      "176           Yemen                                          NaN\n",
      "177          Zambia                                          NaN\n",
      "178        Zimbabwe                                          NaN\n",
      "\n",
      "[179 rows x 2 columns]\n"
     ]
    }
   ],
   "source": [
    "#12 Buddhism by country, Buddhist population by country, % population.\n",
    "Buddhist_by_country = getDataFrameFromWikipedia(\"https://en.wikipedia.org/wiki/Buddhism_by_country\")\n",
    "\n",
    "df = Buddhist_by_country\n",
    "df = df.drop([\"Pew estimates (2010)[1]\", \"Other estimates\"], axis = 1)\n",
    "df.columns = df.columns.droplevel(0)\n",
    "df = df.drop([\"Population\", \"No. of Buddhists\", \"Census Year\"], axis = 1)\n",
    "#print(df.columns)\n",
    "\n",
    "df = df.rename(columns={'Country/Territory': 'Country'})\n",
    "df = df.rename(columns={'% Buddhist': 'Buddhist population by country, % population'})\n",
    "df = normaliseCountryNames(df)\n",
    "\n",
    "the_final_table = pd.merge(the_final_table, df, on='Country', how='outer')\n",
    "\n",
    "print(df.head(10000))"
   ]
  },
  {
   "cell_type": "code",
   "execution_count": 129,
   "metadata": {},
   "outputs": [
    {
     "name": "stdout",
     "output_type": "stream",
     "text": [
      "200\n"
     ]
    },
    {
     "name": "stderr",
     "output_type": "stream",
     "text": [
      "/var/folders/p_/y91nv_9n4pd_cdyjthbpxm900000gn/T/ipykernel_11719/3126715534.py:12: FutureWarning: Passing literal html to 'read_html' is deprecated and will be removed in a future version. To read from a literal string, wrap it in a 'StringIO' object.\n",
      "  df = pd.read_html(str(tables[table_no - 1]))[0]\n",
      "/var/folders/p_/y91nv_9n4pd_cdyjthbpxm900000gn/T/ipykernel_11719/2438867356.py:5: PerformanceWarning: dropping on a non-lexsorted multi-index without a level parameter may impact performance.\n",
      "  df = df.drop([\"Connected population\", \"Enlarged population\",\"Eligible population\",\"National official\"], axis = 1)\n",
      "Netherlands Antilles not found in regex\n",
      "World not found in regex\n"
     ]
    },
    {
     "name": "stdout",
     "output_type": "stream",
     "text": [
      "                    Country  pct\n",
      "0                    Israel   39\n",
      "1             United States   35\n",
      "2                    France  2.8\n",
      "3                 Palestine  2.7\n",
      "4                    Canada  2.4\n",
      "..                      ...  ...\n",
      "107                 Iceland    —\n",
      "108              Montenegro    —\n",
      "109  British Virgin Islands    —\n",
      "110           Liechtenstein    —\n",
      "111        Falkland Islands    —\n",
      "\n",
      "[111 rows x 2 columns]\n"
     ]
    }
   ],
   "source": [
    "#13 Jewish population by country, Table, Core population, pct\n",
    "Jewish_by_country = getDataFrameFromWikipedia(\"https://en.wikipedia.org/wiki/Jewish_population_by_country\")\n",
    "df = Jewish_by_country\n",
    "\n",
    "df = df.drop([\"Connected population\", \"Enlarged population\",\"Eligible population\",\"National official\"], axis = 1)\n",
    "\n",
    "df.columns = df.columns.droplevel(0)\n",
    "df = df.drop([\"Total\", \"pmp\"], axis = 1)\n",
    "df = df.rename(columns={'Countries': 'Country'})\n",
    "df = df.rename(columns={'% pct': 'Core population, pct'})\n",
    "#print(df.columns)\n",
    "\n",
    "df = normaliseCountryNames(df)\n",
    "\n",
    "\n",
    "the_final_table = pd.merge(the_final_table, df, on='Country', how='outer', suffixes=('_final', '_jewish'))\n",
    "\n",
    "\n",
    "print(df.head(10000))"
   ]
  },
  {
   "cell_type": "code",
   "execution_count": 130,
   "metadata": {},
   "outputs": [
    {
     "name": "stdout",
     "output_type": "stream",
     "text": [
      "200\n"
     ]
    },
    {
     "name": "stderr",
     "output_type": "stream",
     "text": [
      "/var/folders/p_/y91nv_9n4pd_cdyjthbpxm900000gn/T/ipykernel_11719/3126715534.py:12: FutureWarning: Passing literal html to 'read_html' is deprecated and will be removed in a future version. To read from a literal string, wrap it in a 'StringIO' object.\n",
      "  df = pd.read_html(str(tables[table_no - 1]))[0]\n"
     ]
    },
    {
     "ename": "KeyError",
     "evalue": "\"['Connected population', 'Enlarged population', 'Eligible population', 'National official'] not found in axis\"",
     "output_type": "error",
     "traceback": [
      "\u001b[0;31m---------------------------------------------------------------------------\u001b[0m",
      "\u001b[0;31mKeyError\u001b[0m                                  Traceback (most recent call last)",
      "Cell \u001b[0;32mIn[130], line 7\u001b[0m\n\u001b[1;32m      2\u001b[0m mortality_rate \u001b[38;5;241m=\u001b[39m getDataFrameFromWikipedia(\u001b[38;5;124m\"\u001b[39m\u001b[38;5;124mhttps://en.wikipedia.org/wiki/List_of_countries_by_infant_and_under-five_mortality_rates\u001b[39m\u001b[38;5;124m\"\u001b[39m,\u001b[38;5;241m4\u001b[39m)\n\u001b[1;32m      4\u001b[0m df \u001b[38;5;241m=\u001b[39m mortality_rate\n\u001b[0;32m----> 7\u001b[0m df \u001b[38;5;241m=\u001b[39m \u001b[43mdf\u001b[49m\u001b[38;5;241;43m.\u001b[39;49m\u001b[43mdrop\u001b[49m\u001b[43m(\u001b[49m\u001b[43m[\u001b[49m\u001b[38;5;124;43m\"\u001b[39;49m\u001b[38;5;124;43mConnected population\u001b[39;49m\u001b[38;5;124;43m\"\u001b[39;49m\u001b[43m,\u001b[49m\u001b[43m \u001b[49m\u001b[38;5;124;43m\"\u001b[39;49m\u001b[38;5;124;43mEnlarged population\u001b[39;49m\u001b[38;5;124;43m\"\u001b[39;49m\u001b[43m,\u001b[49m\u001b[38;5;124;43m\"\u001b[39;49m\u001b[38;5;124;43mEligible population\u001b[39;49m\u001b[38;5;124;43m\"\u001b[39;49m\u001b[43m,\u001b[49m\u001b[38;5;124;43m\"\u001b[39;49m\u001b[38;5;124;43mNational official\u001b[39;49m\u001b[38;5;124;43m\"\u001b[39;49m\u001b[43m]\u001b[49m\u001b[43m,\u001b[49m\u001b[43m \u001b[49m\u001b[43maxis\u001b[49m\u001b[43m \u001b[49m\u001b[38;5;241;43m=\u001b[39;49m\u001b[43m \u001b[49m\u001b[38;5;241;43m1\u001b[39;49m\u001b[43m)\u001b[49m\n\u001b[1;32m      8\u001b[0m \u001b[38;5;28mprint\u001b[39m(df\u001b[38;5;241m.\u001b[39mcolumns)\n",
      "File \u001b[0;32m~/.julia/conda/3/x86_64/lib/python3.10/site-packages/pandas/core/frame.py:5344\u001b[0m, in \u001b[0;36mDataFrame.drop\u001b[0;34m(self, labels, axis, index, columns, level, inplace, errors)\u001b[0m\n\u001b[1;32m   5196\u001b[0m \u001b[38;5;28;01mdef\u001b[39;00m \u001b[38;5;21mdrop\u001b[39m(\n\u001b[1;32m   5197\u001b[0m     \u001b[38;5;28mself\u001b[39m,\n\u001b[1;32m   5198\u001b[0m     labels: IndexLabel \u001b[38;5;241m|\u001b[39m \u001b[38;5;28;01mNone\u001b[39;00m \u001b[38;5;241m=\u001b[39m \u001b[38;5;28;01mNone\u001b[39;00m,\n\u001b[0;32m   (...)\u001b[0m\n\u001b[1;32m   5205\u001b[0m     errors: IgnoreRaise \u001b[38;5;241m=\u001b[39m \u001b[38;5;124m\"\u001b[39m\u001b[38;5;124mraise\u001b[39m\u001b[38;5;124m\"\u001b[39m,\n\u001b[1;32m   5206\u001b[0m ) \u001b[38;5;241m-\u001b[39m\u001b[38;5;241m>\u001b[39m DataFrame \u001b[38;5;241m|\u001b[39m \u001b[38;5;28;01mNone\u001b[39;00m:\n\u001b[1;32m   5207\u001b[0m \u001b[38;5;250m    \u001b[39m\u001b[38;5;124;03m\"\"\"\u001b[39;00m\n\u001b[1;32m   5208\u001b[0m \u001b[38;5;124;03m    Drop specified labels from rows or columns.\u001b[39;00m\n\u001b[1;32m   5209\u001b[0m \n\u001b[0;32m   (...)\u001b[0m\n\u001b[1;32m   5342\u001b[0m \u001b[38;5;124;03m            weight  1.0     0.8\u001b[39;00m\n\u001b[1;32m   5343\u001b[0m \u001b[38;5;124;03m    \"\"\"\u001b[39;00m\n\u001b[0;32m-> 5344\u001b[0m     \u001b[38;5;28;01mreturn\u001b[39;00m \u001b[38;5;28;43msuper\u001b[39;49m\u001b[43m(\u001b[49m\u001b[43m)\u001b[49m\u001b[38;5;241;43m.\u001b[39;49m\u001b[43mdrop\u001b[49m\u001b[43m(\u001b[49m\n\u001b[1;32m   5345\u001b[0m \u001b[43m        \u001b[49m\u001b[43mlabels\u001b[49m\u001b[38;5;241;43m=\u001b[39;49m\u001b[43mlabels\u001b[49m\u001b[43m,\u001b[49m\n\u001b[1;32m   5346\u001b[0m \u001b[43m        \u001b[49m\u001b[43maxis\u001b[49m\u001b[38;5;241;43m=\u001b[39;49m\u001b[43maxis\u001b[49m\u001b[43m,\u001b[49m\n\u001b[1;32m   5347\u001b[0m \u001b[43m        \u001b[49m\u001b[43mindex\u001b[49m\u001b[38;5;241;43m=\u001b[39;49m\u001b[43mindex\u001b[49m\u001b[43m,\u001b[49m\n\u001b[1;32m   5348\u001b[0m \u001b[43m        \u001b[49m\u001b[43mcolumns\u001b[49m\u001b[38;5;241;43m=\u001b[39;49m\u001b[43mcolumns\u001b[49m\u001b[43m,\u001b[49m\n\u001b[1;32m   5349\u001b[0m \u001b[43m        \u001b[49m\u001b[43mlevel\u001b[49m\u001b[38;5;241;43m=\u001b[39;49m\u001b[43mlevel\u001b[49m\u001b[43m,\u001b[49m\n\u001b[1;32m   5350\u001b[0m \u001b[43m        \u001b[49m\u001b[43minplace\u001b[49m\u001b[38;5;241;43m=\u001b[39;49m\u001b[43minplace\u001b[49m\u001b[43m,\u001b[49m\n\u001b[1;32m   5351\u001b[0m \u001b[43m        \u001b[49m\u001b[43merrors\u001b[49m\u001b[38;5;241;43m=\u001b[39;49m\u001b[43merrors\u001b[49m\u001b[43m,\u001b[49m\n\u001b[1;32m   5352\u001b[0m \u001b[43m    \u001b[49m\u001b[43m)\u001b[49m\n",
      "File \u001b[0;32m~/.julia/conda/3/x86_64/lib/python3.10/site-packages/pandas/core/generic.py:4711\u001b[0m, in \u001b[0;36mNDFrame.drop\u001b[0;34m(self, labels, axis, index, columns, level, inplace, errors)\u001b[0m\n\u001b[1;32m   4709\u001b[0m \u001b[38;5;28;01mfor\u001b[39;00m axis, labels \u001b[38;5;129;01min\u001b[39;00m axes\u001b[38;5;241m.\u001b[39mitems():\n\u001b[1;32m   4710\u001b[0m     \u001b[38;5;28;01mif\u001b[39;00m labels \u001b[38;5;129;01mis\u001b[39;00m \u001b[38;5;129;01mnot\u001b[39;00m \u001b[38;5;28;01mNone\u001b[39;00m:\n\u001b[0;32m-> 4711\u001b[0m         obj \u001b[38;5;241m=\u001b[39m \u001b[43mobj\u001b[49m\u001b[38;5;241;43m.\u001b[39;49m\u001b[43m_drop_axis\u001b[49m\u001b[43m(\u001b[49m\u001b[43mlabels\u001b[49m\u001b[43m,\u001b[49m\u001b[43m \u001b[49m\u001b[43maxis\u001b[49m\u001b[43m,\u001b[49m\u001b[43m \u001b[49m\u001b[43mlevel\u001b[49m\u001b[38;5;241;43m=\u001b[39;49m\u001b[43mlevel\u001b[49m\u001b[43m,\u001b[49m\u001b[43m \u001b[49m\u001b[43merrors\u001b[49m\u001b[38;5;241;43m=\u001b[39;49m\u001b[43merrors\u001b[49m\u001b[43m)\u001b[49m\n\u001b[1;32m   4713\u001b[0m \u001b[38;5;28;01mif\u001b[39;00m inplace:\n\u001b[1;32m   4714\u001b[0m     \u001b[38;5;28mself\u001b[39m\u001b[38;5;241m.\u001b[39m_update_inplace(obj)\n",
      "File \u001b[0;32m~/.julia/conda/3/x86_64/lib/python3.10/site-packages/pandas/core/generic.py:4753\u001b[0m, in \u001b[0;36mNDFrame._drop_axis\u001b[0;34m(self, labels, axis, level, errors, only_slice)\u001b[0m\n\u001b[1;32m   4751\u001b[0m         new_axis \u001b[38;5;241m=\u001b[39m axis\u001b[38;5;241m.\u001b[39mdrop(labels, level\u001b[38;5;241m=\u001b[39mlevel, errors\u001b[38;5;241m=\u001b[39merrors)\n\u001b[1;32m   4752\u001b[0m     \u001b[38;5;28;01melse\u001b[39;00m:\n\u001b[0;32m-> 4753\u001b[0m         new_axis \u001b[38;5;241m=\u001b[39m \u001b[43maxis\u001b[49m\u001b[38;5;241;43m.\u001b[39;49m\u001b[43mdrop\u001b[49m\u001b[43m(\u001b[49m\u001b[43mlabels\u001b[49m\u001b[43m,\u001b[49m\u001b[43m \u001b[49m\u001b[43merrors\u001b[49m\u001b[38;5;241;43m=\u001b[39;49m\u001b[43merrors\u001b[49m\u001b[43m)\u001b[49m\n\u001b[1;32m   4754\u001b[0m     indexer \u001b[38;5;241m=\u001b[39m axis\u001b[38;5;241m.\u001b[39mget_indexer(new_axis)\n\u001b[1;32m   4756\u001b[0m \u001b[38;5;66;03m# Case for non-unique axis\u001b[39;00m\n\u001b[1;32m   4757\u001b[0m \u001b[38;5;28;01melse\u001b[39;00m:\n",
      "File \u001b[0;32m~/.julia/conda/3/x86_64/lib/python3.10/site-packages/pandas/core/indexes/base.py:6992\u001b[0m, in \u001b[0;36mIndex.drop\u001b[0;34m(self, labels, errors)\u001b[0m\n\u001b[1;32m   6990\u001b[0m \u001b[38;5;28;01mif\u001b[39;00m mask\u001b[38;5;241m.\u001b[39many():\n\u001b[1;32m   6991\u001b[0m     \u001b[38;5;28;01mif\u001b[39;00m errors \u001b[38;5;241m!=\u001b[39m \u001b[38;5;124m\"\u001b[39m\u001b[38;5;124mignore\u001b[39m\u001b[38;5;124m\"\u001b[39m:\n\u001b[0;32m-> 6992\u001b[0m         \u001b[38;5;28;01mraise\u001b[39;00m \u001b[38;5;167;01mKeyError\u001b[39;00m(\u001b[38;5;124mf\u001b[39m\u001b[38;5;124m\"\u001b[39m\u001b[38;5;132;01m{\u001b[39;00mlabels[mask]\u001b[38;5;241m.\u001b[39mtolist()\u001b[38;5;132;01m}\u001b[39;00m\u001b[38;5;124m not found in axis\u001b[39m\u001b[38;5;124m\"\u001b[39m)\n\u001b[1;32m   6993\u001b[0m     indexer \u001b[38;5;241m=\u001b[39m indexer[\u001b[38;5;241m~\u001b[39mmask]\n\u001b[1;32m   6994\u001b[0m \u001b[38;5;28;01mreturn\u001b[39;00m \u001b[38;5;28mself\u001b[39m\u001b[38;5;241m.\u001b[39mdelete(indexer)\n",
      "\u001b[0;31mKeyError\u001b[0m: \"['Connected population', 'Enlarged population', 'Eligible population', 'National official'] not found in axis\""
     ]
    }
   ],
   "source": [
    "#14 List of countries by infant and under-five mortality rates,  Under-five mortality (deaths/1,000 live births) – 2019 estimates\n",
    "mortality_rate = getDataFrameFromWikipedia(\"https://en.wikipedia.org/wiki/List_of_countries_by_infant_and_under-five_mortality_rates\",4)\n",
    "\n",
    "df = mortality_rate\n",
    "\n",
    "\n",
    "df = df.drop([\"Connected population\", \"Enlarged population\",\"Eligible population\",\"National official\"], axis = 1)\n",
    "print(df.columns)"
   ]
  },
  {
   "cell_type": "code",
   "execution_count": 131,
   "metadata": {},
   "outputs": [
    {
     "name": "stdout",
     "output_type": "stream",
     "text": [
      "200\n"
     ]
    },
    {
     "name": "stderr",
     "output_type": "stream",
     "text": [
      "/var/folders/p_/y91nv_9n4pd_cdyjthbpxm900000gn/T/ipykernel_11719/3126715534.py:12: FutureWarning: Passing literal html to 'read_html' is deprecated and will be removed in a future version. To read from a literal string, wrap it in a 'StringIO' object.\n",
      "  df = pd.read_html(str(tables[table_no - 1]))[0]\n",
      "More than one regular expression match for Denmark (including Faroe Islands)[60]\n",
      "More than one regular expression match for Denmark (including Faroe Islands)[60]\n",
      "More than one regular expression match for Denmark (including Faroe Islands)[60]\n",
      "More than one regular expression match for Denmark (including Faroe Islands)[60]\n",
      "More than one regular expression match for Denmark (including Faroe Islands)[60]\n",
      "More than one regular expression match for Denmark (including Faroe Islands)[60]\n",
      "More than one regular expression match for Denmark (including Faroe Islands)[60]\n",
      "More than one regular expression match for Denmark (including Faroe Islands)[60]\n",
      "More than one regular expression match for Denmark (including Faroe Islands)[60]\n",
      "More than one regular expression match for Denmark (including Faroe Islands)[60]\n",
      "More than one regular expression match for Denmark (including Faroe Islands)[60]\n",
      "More than one regular expression match for Denmark (including Faroe Islands)[60]\n",
      "More than one regular expression match for Denmark (including Faroe Islands)[60]\n",
      "More than one regular expression match for Denmark (including Faroe Islands)[60]\n",
      "More than one regular expression match for Denmark (including Faroe Islands)[60]\n",
      "More than one regular expression match for Denmark (including Faroe Islands)[60]\n",
      "More than one regular expression match for Denmark (including Faroe Islands)[60]\n",
      "More than one regular expression match for Denmark (including Faroe Islands)[60]\n",
      "More than one regular expression match for Denmark (including Faroe Islands)[60]\n",
      "More than one regular expression match for Denmark (including Faroe Islands)[60]\n",
      "More than one regular expression match for Denmark (including Faroe Islands)[60]\n",
      "More than one regular expression match for Denmark (including Faroe Islands)[60]\n",
      "More than one regular expression match for Denmark (including Faroe Islands)[60]\n",
      "More than one regular expression match for Denmark (including Faroe Islands)[60]\n",
      "More than one regular expression match for Denmark (including Faroe Islands)[60]\n",
      "More than one regular expression match for Denmark (including Faroe Islands)[60]\n",
      "More than one regular expression match for Denmark (including Faroe Islands)[60]\n",
      "More than one regular expression match for Denmark (including Faroe Islands)[60]\n",
      "More than one regular expression match for Denmark (including Faroe Islands)[60]\n",
      "More than one regular expression match for Denmark (including Faroe Islands)[60]\n",
      "More than one regular expression match for Denmark (including Faroe Islands)[60]\n",
      "More than one regular expression match for Denmark (including Faroe Islands)[60]\n",
      "More than one regular expression match for Denmark (including Faroe Islands)[60]\n",
      "More than one regular expression match for Denmark (including Faroe Islands)[60]\n",
      "More than one regular expression match for Denmark (including Faroe Islands)[60]\n",
      "More than one regular expression match for Denmark (including Faroe Islands)[60]\n",
      "More than one regular expression match for Denmark (including Faroe Islands)[60]\n",
      "More than one regular expression match for Denmark (including Faroe Islands)[60]\n",
      "More than one regular expression match for Denmark (including Faroe Islands)[60]\n",
      "More than one regular expression match for Denmark (including Faroe Islands)[60]\n",
      "More than one regular expression match for Denmark (including Faroe Islands)[60]\n",
      "More than one regular expression match for Denmark (including Faroe Islands)[60]\n",
      "More than one regular expression match for Denmark (including Faroe Islands)[60]\n",
      "More than one regular expression match for Denmark (including Faroe Islands)[60]\n",
      "More than one regular expression match for Denmark (including Faroe Islands)[60]\n",
      "More than one regular expression match for Denmark (including Faroe Islands)[60]\n",
      "More than one regular expression match for Denmark (including Faroe Islands)[60]\n",
      "More than one regular expression match for Denmark (including Faroe Islands)[60]\n",
      "More than one regular expression match for Denmark (including Faroe Islands)[60]\n",
      "More than one regular expression match for Denmark (including Faroe Islands)[60]\n",
      "More than one regular expression match for Denmark (including Faroe Islands)[60]\n",
      "More than one regular expression match for Denmark (including Faroe Islands)[60]\n",
      "More than one regular expression match for Denmark (including Faroe Islands)[60]\n",
      "More than one regular expression match for Denmark (including Faroe Islands)[60]\n",
      "More than one regular expression match for Denmark (including Faroe Islands)[60]\n",
      "More than one regular expression match for Denmark (including Faroe Islands)[60]\n",
      "More than one regular expression match for Denmark (including Faroe Islands)[60]\n",
      "More than one regular expression match for Denmark (including Faroe Islands)[60]\n",
      "More than one regular expression match for Denmark (including Faroe Islands)[60]\n",
      "More than one regular expression match for Denmark (including Faroe Islands)[60]\n",
      "More than one regular expression match for Denmark (including Faroe Islands)[60]\n",
      "More than one regular expression match for Denmark (including Faroe Islands)[60]\n",
      "More than one regular expression match for Denmark (including Faroe Islands)[60]\n",
      "More than one regular expression match for Denmark (including Faroe Islands)[60]\n",
      "More than one regular expression match for Denmark (including Faroe Islands)[60]\n",
      "More than one regular expression match for Denmark (including Faroe Islands)[60]\n",
      "More than one regular expression match for Denmark (including Faroe Islands)[60]\n",
      "More than one regular expression match for Denmark (including Faroe Islands)[60]\n",
      "More than one regular expression match for Denmark (including Faroe Islands)[60]\n",
      "More than one regular expression match for Denmark (including Faroe Islands)[60]\n",
      "More than one regular expression match for Denmark (including Faroe Islands)[60]\n",
      "More than one regular expression match for Denmark (including Faroe Islands)[60]\n",
      "More than one regular expression match for Denmark (including Faroe Islands)[60]\n",
      "More than one regular expression match for Denmark (including Faroe Islands)[60]\n",
      "More than one regular expression match for Denmark (including Faroe Islands)[60]\n",
      "More than one regular expression match for Denmark (including Faroe Islands)[60]\n",
      "More than one regular expression match for Denmark (including Faroe Islands)[60]\n",
      "More than one regular expression match for Denmark (including Faroe Islands)[60]\n",
      "More than one regular expression match for Denmark (including Faroe Islands)[60]\n",
      "More than one regular expression match for Denmark (including Faroe Islands)[60]\n",
      "More than one regular expression match for Denmark (including Faroe Islands)[60]\n",
      "More than one regular expression match for Denmark (including Faroe Islands)[60]\n",
      "More than one regular expression match for Denmark (including Faroe Islands)[60]\n",
      "More than one regular expression match for Denmark (including Faroe Islands)[60]\n",
      "More than one regular expression match for Denmark (including Faroe Islands)[60]\n",
      "More than one regular expression match for Denmark (including Faroe Islands)[60]\n",
      "More than one regular expression match for Denmark (including Faroe Islands)[60]\n",
      "More than one regular expression match for Denmark (including Faroe Islands)[60]\n",
      "More than one regular expression match for Denmark (including Faroe Islands)[60]\n",
      "More than one regular expression match for Denmark (including Faroe Islands)[60]\n",
      "More than one regular expression match for Denmark (including Faroe Islands)[60]\n",
      "More than one regular expression match for Denmark (including Faroe Islands)[60]\n",
      "More than one regular expression match for Denmark (including Faroe Islands)[60]\n",
      "More than one regular expression match for Denmark (including Faroe Islands)[60]\n",
      "More than one regular expression match for Denmark (including Faroe Islands)[60]\n",
      "More than one regular expression match for Denmark (including Faroe Islands)[60]\n",
      "More than one regular expression match for Denmark (including Faroe Islands)[60]\n",
      "More than one regular expression match for Denmark (including Faroe Islands)[60]\n",
      "More than one regular expression match for Denmark (including Faroe Islands)[60]\n",
      "More than one regular expression match for Denmark (including Faroe Islands)[60]\n",
      "More than one regular expression match for Denmark (including Faroe Islands)[60]\n",
      "More than one regular expression match for Denmark (including Faroe Islands)[60]\n",
      "More than one regular expression match for Denmark (including Faroe Islands)[60]\n",
      "More than one regular expression match for Denmark (including Faroe Islands)[60]\n",
      "More than one regular expression match for Denmark (including Faroe Islands)[60]\n",
      "More than one regular expression match for Denmark (including Faroe Islands)[60]\n",
      "More than one regular expression match for Denmark (including Faroe Islands)[60]\n",
      "More than one regular expression match for Denmark (including Faroe Islands)[60]\n",
      "More than one regular expression match for Denmark (including Faroe Islands)[60]\n",
      "More than one regular expression match for Denmark (including Faroe Islands)[60]\n",
      "More than one regular expression match for Denmark (including Faroe Islands)[60]\n",
      "More than one regular expression match for Denmark (including Faroe Islands)[60]\n",
      "More than one regular expression match for Denmark (including Faroe Islands)[60]\n",
      "More than one regular expression match for Denmark (including Faroe Islands)[60]\n",
      "More than one regular expression match for Denmark (including Faroe Islands)[60]\n",
      "More than one regular expression match for Denmark (including Faroe Islands)[60]\n",
      "More than one regular expression match for Denmark (including Faroe Islands)[60]\n",
      "More than one regular expression match for Denmark (including Faroe Islands)[60]\n",
      "More than one regular expression match for Denmark (including Faroe Islands)[60]\n",
      "More than one regular expression match for Denmark (including Faroe Islands)[60]\n",
      "More than one regular expression match for Denmark (including Faroe Islands)[60]\n",
      "More than one regular expression match for Denmark (including Faroe Islands)[60]\n",
      "More than one regular expression match for Denmark (including Faroe Islands)[60]\n",
      "More than one regular expression match for Denmark (including Faroe Islands)[60]\n",
      "More than one regular expression match for Denmark (including Faroe Islands)[60]\n",
      "More than one regular expression match for Denmark (including Faroe Islands)[60]\n",
      "More than one regular expression match for Denmark (including Faroe Islands)[60]\n",
      "More than one regular expression match for Denmark (including Faroe Islands)[60]\n",
      "More than one regular expression match for Denmark (including Faroe Islands)[60]\n",
      "More than one regular expression match for Denmark (including Faroe Islands)[60]\n",
      "More than one regular expression match for Denmark (including Faroe Islands)[60]\n",
      "More than one regular expression match for Denmark (including Faroe Islands)[60]\n",
      "More than one regular expression match for Denmark (including Faroe Islands)[60]\n",
      "More than one regular expression match for Denmark (including Faroe Islands)[60]\n",
      "More than one regular expression match for Denmark (including Faroe Islands)[60]\n",
      "More than one regular expression match for Denmark (including Faroe Islands)[60]\n",
      "More than one regular expression match for Denmark (including Faroe Islands)[60]\n",
      "More than one regular expression match for Denmark (including Faroe Islands)[60]\n",
      "More than one regular expression match for Denmark (including Faroe Islands)[60]\n",
      "More than one regular expression match for Denmark (including Faroe Islands)[60]\n",
      "More than one regular expression match for Denmark (including Faroe Islands)[60]\n",
      "More than one regular expression match for Denmark (including Faroe Islands)[60]\n",
      "More than one regular expression match for Denmark (including Faroe Islands)[60]\n",
      "More than one regular expression match for Denmark (including Faroe Islands)[60]\n",
      "More than one regular expression match for Denmark (including Faroe Islands)[60]\n",
      "More than one regular expression match for Denmark (including Faroe Islands)[60]\n",
      "More than one regular expression match for Denmark (including Faroe Islands)[60]\n",
      "More than one regular expression match for Denmark (including Faroe Islands)[60]\n",
      "More than one regular expression match for Denmark (including Faroe Islands)[60]\n",
      "More than one regular expression match for Denmark (including Faroe Islands)[60]\n",
      "More than one regular expression match for Denmark (including Faroe Islands)[60]\n",
      "More than one regular expression match for Denmark (including Faroe Islands)[60]\n",
      "More than one regular expression match for Denmark (including Faroe Islands)[60]\n",
      "More than one regular expression match for Denmark (including Faroe Islands)[60]\n",
      "More than one regular expression match for Denmark (including Faroe Islands)[60]\n",
      "More than one regular expression match for Denmark (including Faroe Islands)[60]\n",
      "More than one regular expression match for Denmark (including Faroe Islands)[60]\n",
      "More than one regular expression match for Denmark (including Faroe Islands)[60]\n",
      "More than one regular expression match for Denmark (including Faroe Islands)[60]\n",
      "More than one regular expression match for Denmark (including Faroe Islands)[60]\n",
      "More than one regular expression match for Denmark (including Faroe Islands)[60]\n",
      "More than one regular expression match for Denmark (including Faroe Islands)[60]\n",
      "More than one regular expression match for Denmark (including Faroe Islands)[60]\n",
      "More than one regular expression match for Denmark (including Faroe Islands)[60]\n",
      "More than one regular expression match for Denmark (including Faroe Islands)[60]\n",
      "More than one regular expression match for Denmark (including Faroe Islands)[60]\n",
      "More than one regular expression match for Denmark (including Faroe Islands)[60]\n",
      "More than one regular expression match for Denmark (including Faroe Islands)[60]\n",
      "More than one regular expression match for Denmark (including Faroe Islands)[60]\n",
      "More than one regular expression match for Denmark (including Faroe Islands)[60]\n",
      "More than one regular expression match for Denmark (including Faroe Islands)[60]\n",
      "More than one regular expression match for Denmark (including Faroe Islands)[60]\n",
      "More than one regular expression match for Denmark (including Faroe Islands)[60]\n",
      "More than one regular expression match for Denmark (including Faroe Islands)[60]\n",
      "More than one regular expression match for Denmark (including Faroe Islands)[60]\n",
      "More than one regular expression match for Denmark (including Faroe Islands)[60]\n",
      "More than one regular expression match for Denmark (including Faroe Islands)[60]\n"
     ]
    },
    {
     "ename": "TypeError",
     "evalue": "unhashable type: 'list'",
     "output_type": "error",
     "traceback": [
      "\u001b[0;31m---------------------------------------------------------------------------\u001b[0m",
      "\u001b[0;31mTypeError\u001b[0m                                 Traceback (most recent call last)",
      "Cell \u001b[0;32mIn[131], line 20\u001b[0m\n\u001b[1;32m     14\u001b[0m df[\u001b[38;5;124m'\u001b[39m\u001b[38;5;124mBy country, age reduced\u001b[39m\u001b[38;5;124m'\u001b[39m] \u001b[38;5;241m=\u001b[39m df[\u001b[38;5;124m'\u001b[39m\u001b[38;5;124mBy country, age reduced\u001b[39m\u001b[38;5;124m'\u001b[39m]\u001b[38;5;241m.\u001b[39mastype(\u001b[38;5;28mstr\u001b[39m)\n\u001b[1;32m     17\u001b[0m df \u001b[38;5;241m=\u001b[39m normaliseCountryNames(df)\n\u001b[0;32m---> 20\u001b[0m the_final_table \u001b[38;5;241m=\u001b[39m \u001b[43mpd\u001b[49m\u001b[38;5;241;43m.\u001b[39;49m\u001b[43mmerge\u001b[49m\u001b[43m(\u001b[49m\u001b[43mthe_final_table\u001b[49m\u001b[43m,\u001b[49m\u001b[43m \u001b[49m\u001b[43mdf\u001b[49m\u001b[43m,\u001b[49m\u001b[43m \u001b[49m\u001b[43mon\u001b[49m\u001b[38;5;241;43m=\u001b[39;49m\u001b[38;5;124;43m'\u001b[39;49m\u001b[38;5;124;43mCountry\u001b[39;49m\u001b[38;5;124;43m'\u001b[39;49m\u001b[43m,\u001b[49m\u001b[43m \u001b[49m\u001b[43mhow\u001b[49m\u001b[38;5;241;43m=\u001b[39;49m\u001b[38;5;124;43m'\u001b[39;49m\u001b[38;5;124;43mouter\u001b[39;49m\u001b[38;5;124;43m'\u001b[39;49m\u001b[43m)\u001b[49m\n\u001b[1;32m     22\u001b[0m \u001b[38;5;28mprint\u001b[39m(df\u001b[38;5;241m.\u001b[39mhead(\u001b[38;5;241m10000\u001b[39m))\n",
      "File \u001b[0;32m~/.julia/conda/3/x86_64/lib/python3.10/site-packages/pandas/core/reshape/merge.py:183\u001b[0m, in \u001b[0;36mmerge\u001b[0;34m(left, right, how, on, left_on, right_on, left_index, right_index, sort, suffixes, copy, indicator, validate)\u001b[0m\n\u001b[1;32m    168\u001b[0m \u001b[38;5;28;01melse\u001b[39;00m:\n\u001b[1;32m    169\u001b[0m     op \u001b[38;5;241m=\u001b[39m _MergeOperation(\n\u001b[1;32m    170\u001b[0m         left_df,\n\u001b[1;32m    171\u001b[0m         right_df,\n\u001b[0;32m   (...)\u001b[0m\n\u001b[1;32m    181\u001b[0m         validate\u001b[38;5;241m=\u001b[39mvalidate,\n\u001b[1;32m    182\u001b[0m     )\n\u001b[0;32m--> 183\u001b[0m     \u001b[38;5;28;01mreturn\u001b[39;00m \u001b[43mop\u001b[49m\u001b[38;5;241;43m.\u001b[39;49m\u001b[43mget_result\u001b[49m\u001b[43m(\u001b[49m\u001b[43mcopy\u001b[49m\u001b[38;5;241;43m=\u001b[39;49m\u001b[43mcopy\u001b[49m\u001b[43m)\u001b[49m\n",
      "File \u001b[0;32m~/.julia/conda/3/x86_64/lib/python3.10/site-packages/pandas/core/reshape/merge.py:883\u001b[0m, in \u001b[0;36m_MergeOperation.get_result\u001b[0;34m(self, copy)\u001b[0m\n\u001b[1;32m    880\u001b[0m \u001b[38;5;28;01mif\u001b[39;00m \u001b[38;5;28mself\u001b[39m\u001b[38;5;241m.\u001b[39mindicator:\n\u001b[1;32m    881\u001b[0m     \u001b[38;5;28mself\u001b[39m\u001b[38;5;241m.\u001b[39mleft, \u001b[38;5;28mself\u001b[39m\u001b[38;5;241m.\u001b[39mright \u001b[38;5;241m=\u001b[39m \u001b[38;5;28mself\u001b[39m\u001b[38;5;241m.\u001b[39m_indicator_pre_merge(\u001b[38;5;28mself\u001b[39m\u001b[38;5;241m.\u001b[39mleft, \u001b[38;5;28mself\u001b[39m\u001b[38;5;241m.\u001b[39mright)\n\u001b[0;32m--> 883\u001b[0m join_index, left_indexer, right_indexer \u001b[38;5;241m=\u001b[39m \u001b[38;5;28;43mself\u001b[39;49m\u001b[38;5;241;43m.\u001b[39;49m\u001b[43m_get_join_info\u001b[49m\u001b[43m(\u001b[49m\u001b[43m)\u001b[49m\n\u001b[1;32m    885\u001b[0m result \u001b[38;5;241m=\u001b[39m \u001b[38;5;28mself\u001b[39m\u001b[38;5;241m.\u001b[39m_reindex_and_concat(\n\u001b[1;32m    886\u001b[0m     join_index, left_indexer, right_indexer, copy\u001b[38;5;241m=\u001b[39mcopy\n\u001b[1;32m    887\u001b[0m )\n\u001b[1;32m    888\u001b[0m result \u001b[38;5;241m=\u001b[39m result\u001b[38;5;241m.\u001b[39m__finalize__(\u001b[38;5;28mself\u001b[39m, method\u001b[38;5;241m=\u001b[39m\u001b[38;5;28mself\u001b[39m\u001b[38;5;241m.\u001b[39m_merge_type)\n",
      "File \u001b[0;32m~/.julia/conda/3/x86_64/lib/python3.10/site-packages/pandas/core/reshape/merge.py:1133\u001b[0m, in \u001b[0;36m_MergeOperation._get_join_info\u001b[0;34m(self)\u001b[0m\n\u001b[1;32m   1129\u001b[0m     join_index, right_indexer, left_indexer \u001b[38;5;241m=\u001b[39m _left_join_on_index(\n\u001b[1;32m   1130\u001b[0m         right_ax, left_ax, \u001b[38;5;28mself\u001b[39m\u001b[38;5;241m.\u001b[39mright_join_keys, sort\u001b[38;5;241m=\u001b[39m\u001b[38;5;28mself\u001b[39m\u001b[38;5;241m.\u001b[39msort\n\u001b[1;32m   1131\u001b[0m     )\n\u001b[1;32m   1132\u001b[0m \u001b[38;5;28;01melse\u001b[39;00m:\n\u001b[0;32m-> 1133\u001b[0m     (left_indexer, right_indexer) \u001b[38;5;241m=\u001b[39m \u001b[38;5;28;43mself\u001b[39;49m\u001b[38;5;241;43m.\u001b[39;49m\u001b[43m_get_join_indexers\u001b[49m\u001b[43m(\u001b[49m\u001b[43m)\u001b[49m\n\u001b[1;32m   1135\u001b[0m     \u001b[38;5;28;01mif\u001b[39;00m \u001b[38;5;28mself\u001b[39m\u001b[38;5;241m.\u001b[39mright_index:\n\u001b[1;32m   1136\u001b[0m         \u001b[38;5;28;01mif\u001b[39;00m \u001b[38;5;28mlen\u001b[39m(\u001b[38;5;28mself\u001b[39m\u001b[38;5;241m.\u001b[39mleft) \u001b[38;5;241m>\u001b[39m \u001b[38;5;241m0\u001b[39m:\n",
      "File \u001b[0;32m~/.julia/conda/3/x86_64/lib/python3.10/site-packages/pandas/core/reshape/merge.py:1105\u001b[0m, in \u001b[0;36m_MergeOperation._get_join_indexers\u001b[0;34m(self)\u001b[0m\n\u001b[1;32m   1103\u001b[0m \u001b[38;5;28;01mdef\u001b[39;00m \u001b[38;5;21m_get_join_indexers\u001b[39m(\u001b[38;5;28mself\u001b[39m) \u001b[38;5;241m-\u001b[39m\u001b[38;5;241m>\u001b[39m \u001b[38;5;28mtuple\u001b[39m[npt\u001b[38;5;241m.\u001b[39mNDArray[np\u001b[38;5;241m.\u001b[39mintp], npt\u001b[38;5;241m.\u001b[39mNDArray[np\u001b[38;5;241m.\u001b[39mintp]]:\n\u001b[1;32m   1104\u001b[0m \u001b[38;5;250m    \u001b[39m\u001b[38;5;124;03m\"\"\"return the join indexers\"\"\"\u001b[39;00m\n\u001b[0;32m-> 1105\u001b[0m     \u001b[38;5;28;01mreturn\u001b[39;00m \u001b[43mget_join_indexers\u001b[49m\u001b[43m(\u001b[49m\n\u001b[1;32m   1106\u001b[0m \u001b[43m        \u001b[49m\u001b[38;5;28;43mself\u001b[39;49m\u001b[38;5;241;43m.\u001b[39;49m\u001b[43mleft_join_keys\u001b[49m\u001b[43m,\u001b[49m\u001b[43m \u001b[49m\u001b[38;5;28;43mself\u001b[39;49m\u001b[38;5;241;43m.\u001b[39;49m\u001b[43mright_join_keys\u001b[49m\u001b[43m,\u001b[49m\u001b[43m \u001b[49m\u001b[43msort\u001b[49m\u001b[38;5;241;43m=\u001b[39;49m\u001b[38;5;28;43mself\u001b[39;49m\u001b[38;5;241;43m.\u001b[39;49m\u001b[43msort\u001b[49m\u001b[43m,\u001b[49m\u001b[43m \u001b[49m\u001b[43mhow\u001b[49m\u001b[38;5;241;43m=\u001b[39;49m\u001b[38;5;28;43mself\u001b[39;49m\u001b[38;5;241;43m.\u001b[39;49m\u001b[43mhow\u001b[49m\n\u001b[1;32m   1107\u001b[0m \u001b[43m    \u001b[49m\u001b[43m)\u001b[49m\n",
      "File \u001b[0;32m~/.julia/conda/3/x86_64/lib/python3.10/site-packages/pandas/core/reshape/merge.py:1703\u001b[0m, in \u001b[0;36mget_join_indexers\u001b[0;34m(left_keys, right_keys, sort, how)\u001b[0m\n\u001b[1;32m   1698\u001b[0m \u001b[38;5;66;03m# get left & right join labels and num. of levels at each location\u001b[39;00m\n\u001b[1;32m   1699\u001b[0m mapped \u001b[38;5;241m=\u001b[39m (\n\u001b[1;32m   1700\u001b[0m     _factorize_keys(left_keys[n], right_keys[n], sort\u001b[38;5;241m=\u001b[39msort, how\u001b[38;5;241m=\u001b[39mhow)\n\u001b[1;32m   1701\u001b[0m     \u001b[38;5;28;01mfor\u001b[39;00m n \u001b[38;5;129;01min\u001b[39;00m \u001b[38;5;28mrange\u001b[39m(\u001b[38;5;28mlen\u001b[39m(left_keys))\n\u001b[1;32m   1702\u001b[0m )\n\u001b[0;32m-> 1703\u001b[0m zipped \u001b[38;5;241m=\u001b[39m \u001b[38;5;28;43mzip\u001b[39;49m\u001b[43m(\u001b[49m\u001b[38;5;241;43m*\u001b[39;49m\u001b[43mmapped\u001b[49m\u001b[43m)\u001b[49m\n\u001b[1;32m   1704\u001b[0m llab, rlab, shape \u001b[38;5;241m=\u001b[39m (\u001b[38;5;28mlist\u001b[39m(x) \u001b[38;5;28;01mfor\u001b[39;00m x \u001b[38;5;129;01min\u001b[39;00m zipped)\n\u001b[1;32m   1706\u001b[0m \u001b[38;5;66;03m# get flat i8 keys from label lists\u001b[39;00m\n",
      "File \u001b[0;32m~/.julia/conda/3/x86_64/lib/python3.10/site-packages/pandas/core/reshape/merge.py:1700\u001b[0m, in \u001b[0;36m<genexpr>\u001b[0;34m(.0)\u001b[0m\n\u001b[1;32m   1696\u001b[0m         \u001b[38;5;28;01mreturn\u001b[39;00m _get_no_sort_one_missing_indexer(left_n, \u001b[38;5;28;01mFalse\u001b[39;00m)\n\u001b[1;32m   1698\u001b[0m \u001b[38;5;66;03m# get left & right join labels and num. of levels at each location\u001b[39;00m\n\u001b[1;32m   1699\u001b[0m mapped \u001b[38;5;241m=\u001b[39m (\n\u001b[0;32m-> 1700\u001b[0m     \u001b[43m_factorize_keys\u001b[49m\u001b[43m(\u001b[49m\u001b[43mleft_keys\u001b[49m\u001b[43m[\u001b[49m\u001b[43mn\u001b[49m\u001b[43m]\u001b[49m\u001b[43m,\u001b[49m\u001b[43m \u001b[49m\u001b[43mright_keys\u001b[49m\u001b[43m[\u001b[49m\u001b[43mn\u001b[49m\u001b[43m]\u001b[49m\u001b[43m,\u001b[49m\u001b[43m \u001b[49m\u001b[43msort\u001b[49m\u001b[38;5;241;43m=\u001b[39;49m\u001b[43msort\u001b[49m\u001b[43m,\u001b[49m\u001b[43m \u001b[49m\u001b[43mhow\u001b[49m\u001b[38;5;241;43m=\u001b[39;49m\u001b[43mhow\u001b[49m\u001b[43m)\u001b[49m\n\u001b[1;32m   1701\u001b[0m     \u001b[38;5;28;01mfor\u001b[39;00m n \u001b[38;5;129;01min\u001b[39;00m \u001b[38;5;28mrange\u001b[39m(\u001b[38;5;28mlen\u001b[39m(left_keys))\n\u001b[1;32m   1702\u001b[0m )\n\u001b[1;32m   1703\u001b[0m zipped \u001b[38;5;241m=\u001b[39m \u001b[38;5;28mzip\u001b[39m(\u001b[38;5;241m*\u001b[39mmapped)\n\u001b[1;32m   1704\u001b[0m llab, rlab, shape \u001b[38;5;241m=\u001b[39m (\u001b[38;5;28mlist\u001b[39m(x) \u001b[38;5;28;01mfor\u001b[39;00m x \u001b[38;5;129;01min\u001b[39;00m zipped)\n",
      "File \u001b[0;32m~/.julia/conda/3/x86_64/lib/python3.10/site-packages/pandas/core/reshape/merge.py:2500\u001b[0m, in \u001b[0;36m_factorize_keys\u001b[0;34m(lk, rk, sort, how)\u001b[0m\n\u001b[1;32m   2495\u001b[0m \u001b[38;5;28;01melse\u001b[39;00m:\n\u001b[1;32m   2496\u001b[0m     \u001b[38;5;66;03m# Argument 1 to \"factorize\" of \"ObjectFactorizer\" has incompatible type\u001b[39;00m\n\u001b[1;32m   2497\u001b[0m     \u001b[38;5;66;03m# \"Union[ndarray[Any, dtype[signedinteger[_64Bit]]],\u001b[39;00m\n\u001b[1;32m   2498\u001b[0m     \u001b[38;5;66;03m# ndarray[Any, dtype[object_]]]\"; expected \"ndarray[Any, dtype[object_]]\"\u001b[39;00m\n\u001b[1;32m   2499\u001b[0m     llab \u001b[38;5;241m=\u001b[39m rizer\u001b[38;5;241m.\u001b[39mfactorize(lk)  \u001b[38;5;66;03m# type: ignore[arg-type]\u001b[39;00m\n\u001b[0;32m-> 2500\u001b[0m     rlab \u001b[38;5;241m=\u001b[39m \u001b[43mrizer\u001b[49m\u001b[38;5;241;43m.\u001b[39;49m\u001b[43mfactorize\u001b[49m\u001b[43m(\u001b[49m\u001b[43mrk\u001b[49m\u001b[43m)\u001b[49m  \u001b[38;5;66;03m# type: ignore[arg-type]\u001b[39;00m\n\u001b[1;32m   2501\u001b[0m \u001b[38;5;28;01massert\u001b[39;00m llab\u001b[38;5;241m.\u001b[39mdtype \u001b[38;5;241m==\u001b[39m np\u001b[38;5;241m.\u001b[39mdtype(np\u001b[38;5;241m.\u001b[39mintp), llab\u001b[38;5;241m.\u001b[39mdtype\n\u001b[1;32m   2502\u001b[0m \u001b[38;5;28;01massert\u001b[39;00m rlab\u001b[38;5;241m.\u001b[39mdtype \u001b[38;5;241m==\u001b[39m np\u001b[38;5;241m.\u001b[39mdtype(np\u001b[38;5;241m.\u001b[39mintp), rlab\u001b[38;5;241m.\u001b[39mdtype\n",
      "File \u001b[0;32mhashtable.pyx:122\u001b[0m, in \u001b[0;36mpandas._libs.hashtable.ObjectFactorizer.factorize\u001b[0;34m()\u001b[0m\n",
      "File \u001b[0;32mpandas/_libs/hashtable_class_helper.pxi:7288\u001b[0m, in \u001b[0;36mpandas._libs.hashtable.PyObjectHashTable.get_labels\u001b[0;34m()\u001b[0m\n",
      "File \u001b[0;32mpandas/_libs/hashtable_class_helper.pxi:7194\u001b[0m, in \u001b[0;36mpandas._libs.hashtable.PyObjectHashTable._unique\u001b[0;34m()\u001b[0m\n",
      "\u001b[0;31mTypeError\u001b[0m: unhashable type: 'list'"
     ]
    }
   ],
   "source": [
    "#15 Age of criminal responsibility, By country, age reduced\n",
    "\n",
    "Age= getDataFrameFromWikipedia(\"https://en.wikipedia.org/wiki/Age_of_criminal_responsibility\")\n",
    "\n",
    "df = Age\n",
    "\n",
    "df = df.drop([\"Age (full)[b]\", \"Ref\",\"Notes\"], axis = 1)\n",
    "\n",
    "df = df.rename(columns={'Country': 'Country'})\n",
    "df = df.rename(columns={'Age (reduced)[a]': 'By country, age reduced'})\n",
    "\n",
    "df['Country'] = df['Country'].apply(lambda x: ', '.join(x) if isinstance(x, list) else x)\n",
    "\n",
    "df['By country, age reduced'] = df['By country, age reduced'].astype(str)\n",
    "\n",
    "\n",
    "df = normaliseCountryNames(df)\n",
    "\n",
    "\n",
    "the_final_table = pd.merge(the_final_table, df, on='Country', how='outer')\n",
    "\n",
    "print(df.head(10000))"
   ]
  },
  {
   "cell_type": "code",
   "execution_count": 132,
   "metadata": {},
   "outputs": [
    {
     "name": "stdout",
     "output_type": "stream",
     "text": [
      "                       Country World Bank[6]  Average download speed (Mbit/s)  \\\n",
      "0                       Monaco        234317                           220.35   \n",
      "1                Liechtenstein        184083                           193.79   \n",
      "2                   Luxembourg        126426                           154.26   \n",
      "3                      Bermuda        118846                              NaN   \n",
      "4                      Ireland        104039                           112.81   \n",
      "..                         ...           ...                              ...   \n",
      "232    Cocos (Keeling) Islands           NaN                              NaN   \n",
      "233           Falkland Islands           NaN                              NaN   \n",
      "234                    Tokelau           NaN                              NaN   \n",
      "235  Wallis and Futuna Islands           NaN                              NaN   \n",
      "236             Western Sahara           NaN                              NaN   \n",
      "\n",
      "    Alcohiol consumption per capita (litres) 2016  \\\n",
      "0                                             NaN   \n",
      "1                                             NaN   \n",
      "2                                            13.0   \n",
      "3                                             NaN   \n",
      "4                                            13.0   \n",
      "..                                            ...   \n",
      "232                                           NaN   \n",
      "233                                           NaN   \n",
      "234                                           NaN   \n",
      "235                                           NaN   \n",
      "236                                           NaN   \n",
      "\n",
      "     Intentional homicide victims per 100,000 inhabitants  \\\n",
      "0                                                  0.0      \n",
      "1                                                  5.1      \n",
      "2                                                  0.6      \n",
      "3                                                 10.9      \n",
      "4                                                  0.4      \n",
      "..                                                 ...      \n",
      "232                                                NaN      \n",
      "233                                                NaN      \n",
      "234                                                NaN      \n",
      "235                                                NaN      \n",
      "236                                                NaN      \n",
      "\n",
      "    Muslim percentage of total population_islam  \\\n",
      "0                                           0.8   \n",
      "1                                           5.4   \n",
      "2                                           2.3   \n",
      "3                                             1   \n",
      "4                                           1.4   \n",
      "..                                          ...   \n",
      "232                                          80   \n",
      "233                                       < 0.1   \n",
      "234                                       < 0.1   \n",
      "235                                       < 0.1   \n",
      "236                                        99.4   \n",
      "\n",
      "    Buddhist population by country, % population      pct  \n",
      "0                                            NaN      NaN  \n",
      "1                                            NaN        —  \n",
      "2                                            NaN   0.0043  \n",
      "3                                            NaN  0.00062  \n",
      "4                                            NaN    0.017  \n",
      "..                                           ...      ...  \n",
      "232                                          NaN      NaN  \n",
      "233                                          NaN        —  \n",
      "234                                          NaN      NaN  \n",
      "235                                          NaN      NaN  \n",
      "236                                          NaN      NaN  \n",
      "\n",
      "[237 rows x 8 columns]\n"
     ]
    }
   ],
   "source": [
    "print(the_final_table.head(10000))\n",
    "\n",
    "the_final_table.to_csv('the_final_table.csv', index=False)\n"
   ]
  },
  {
   "cell_type": "code",
   "execution_count": null,
   "metadata": {},
   "outputs": [],
   "source": []
  },
  {
   "cell_type": "code",
   "execution_count": null,
   "metadata": {},
   "outputs": [],
   "source": []
  }
 ],
 "metadata": {
  "kernelspec": {
   "display_name": "Python 3 (ipykernel)",
   "language": "python",
   "name": "python3"
  },
  "language_info": {
   "codemirror_mode": {
    "name": "ipython",
    "version": 3
   },
   "file_extension": ".py",
   "mimetype": "text/x-python",
   "name": "python",
   "nbconvert_exporter": "python",
   "pygments_lexer": "ipython3",
   "version": "3.10.12"
  }
 },
 "nbformat": 4,
 "nbformat_minor": 4
}
